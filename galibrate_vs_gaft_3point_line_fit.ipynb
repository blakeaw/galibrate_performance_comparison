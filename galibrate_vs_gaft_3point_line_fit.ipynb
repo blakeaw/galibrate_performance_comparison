{
 "cells": [
  {
   "cell_type": "markdown",
   "metadata": {},
   "source": [
    "# Quick performance comparison of galibrate and gaft\n",
    "\n",
    "In this notebook we'll do a rough performance comparison of [galibrate](https://github.com/blakeaw/GAlibrate) (Numba implementation) and [gaft](https://github.com/PytLab/gaft) (serial version). \n",
    "\n",
    "For this test, we're fitting three data points with a linear equation by minimizing the chi^2 value; this was adapted from the [Gleipnir 3point_line example](https://github.com/LoLab-VU/Gleipnir/tree/master/examples/3point_line). This model has two parameters: m and b (from y=mx+b). \n",
    "\n",
    "To run this notebook, you will need to install\n",
    "  * galibrate\n",
    "  * gaft\n",
    "  * numba\n",
    "\n",
    "Here is the data we are fitting against:"
   ]
  },
  {
   "cell_type": "code",
   "execution_count": 2,
   "metadata": {},
   "outputs": [],
   "source": [
    "# Setup the data points that are being fitted.\n",
    "data_x = np.array([1., 2., 3.])\n",
    "data_y = np.array([1.4, 1.7, 4.1])\n",
    "data_yerr = np.array([0.2, 0.15, 0.2])"
   ]
  },
  {
   "cell_type": "markdown",
   "metadata": {},
   "source": [
    "## galibrate set up and run"
   ]
  },
  {
   "cell_type": "code",
   "execution_count": 1,
   "metadata": {},
   "outputs": [
    {
     "name": "stderr",
     "output_type": "stream",
     "text": [
      "/home/blake/src/python/GAlibrate/galibrate/gao.py:10: RuntimeWarning: ------Running GAO with numba optimization.------\n",
      "  warnings.warn(\"------Running GAO with numba optimization.------\", RuntimeWarning)\n"
     ]
    }
   ],
   "source": [
    "import numpy as np\n",
    "from galibrate.sampled_parameter import SampledParameter\n",
    "from galibrate import GAO"
   ]
  },
  {
   "cell_type": "code",
   "execution_count": 3,
   "metadata": {},
   "outputs": [],
   "source": [
    "# Define the fitness function\n",
    "def fitness(chromosome):\n",
    "    y = chromosome[1] * data_x + chromosome[0]\n",
    "    chisq = np.sum(((data_y - y) / data_yerr)**2)\n",
    "    if np.isnan(chisq):\n",
    "        return -np.inf\n",
    "    return -chisq / 2."
   ]
  },
  {
   "cell_type": "code",
   "execution_count": 4,
   "metadata": {},
   "outputs": [],
   "source": [
    "# Set up the list of sampled parameters: the range is (-5:5) --\n",
    "parm_names = list(['m', 'b'])\n",
    "sampled_parameters = [SampledParameter(name=p, loc=-5.0, width=10.0) for p in parm_names]"
   ]
  },
  {
   "cell_type": "code",
   "execution_count": 5,
   "metadata": {},
   "outputs": [],
   "source": [
    "# Set the active point population size\n",
    "population_size = 5000\n",
    "generations = 100\n",
    "mutation_rate = 0.1"
   ]
  },
  {
   "cell_type": "code",
   "execution_count": 6,
   "metadata": {},
   "outputs": [],
   "source": [
    "gao = GAO(sampled_parameters,\n",
    "         fitness,\n",
    "         population_size,\n",
    "         generations = generations,\n",
    "         mutation_rate = mutation_rate)"
   ]
  },
  {
   "cell_type": "code",
   "execution_count": 7,
   "metadata": {},
   "outputs": [],
   "source": [
    "ti_gal = %timeit -r 2 -n 3 -q -o gao.run()"
   ]
  },
  {
   "cell_type": "code",
   "execution_count": 8,
   "metadata": {},
   "outputs": [
    {
     "name": "stdout",
     "output_type": "stream",
     "text": [
      "Average run time (seconds): 3.895735375665633\n"
     ]
    }
   ],
   "source": [
    "print(\"Average run time (seconds): {}\".format(ti_gal.average))"
   ]
  },
  {
   "cell_type": "code",
   "execution_count": 9,
   "metadata": {},
   "outputs": [
    {
     "name": "stdout",
     "output_type": "stream",
     "text": [
      "[-0.43165853  1.35146893] -12.98183701362593\n"
     ]
    }
   ],
   "source": [
    "print(gao._fittest_chromosome, gao._fittest_fitness)"
   ]
  },
  {
   "cell_type": "markdown",
   "metadata": {},
   "source": [
    "## gaft set up and run"
   ]
  },
  {
   "cell_type": "code",
   "execution_count": 10,
   "metadata": {},
   "outputs": [],
   "source": [
    "from gaft.components import BinaryIndividual\n",
    "from gaft.components import Population\n",
    "from gaft.operators import TournamentSelection\n",
    "from gaft.operators import UniformCrossover\n",
    "from gaft.operators import FlipBitMutation\n",
    "from gaft import GAEngine"
   ]
  },
  {
   "cell_type": "code",
   "execution_count": 11,
   "metadata": {},
   "outputs": [],
   "source": [
    "indv = BinaryIndividual(ranges=[(-5., 5.), (-5.,5.)], eps=0.001)\n",
    "population = Population(indv_template=indv, size=population_size).init()\n",
    "selection = TournamentSelection()\n",
    "crossover = UniformCrossover(pc=0.8, pe=0.5)\n",
    "mutation = FlipBitMutation(pm=mutation_rate)\n",
    "engine = GAEngine(population=population, selection=selection,\n",
    "                  crossover=crossover, mutation=mutation, analysis=None)"
   ]
  },
  {
   "cell_type": "code",
   "execution_count": 12,
   "metadata": {},
   "outputs": [],
   "source": [
    "# Define the fitness function\n",
    "@engine.fitness_register\n",
    "def gaft_fitness(indv):\n",
    "    print(indv.solution)\n",
    "    chromosome = indv.solution\n",
    "    print(chromosome)\n",
    "    y = chromosome[1] * data_x + chromosome[0]\n",
    "    chisq = np.sum(((data_y - y) / data_yerr)**2)\n",
    "    if np.isnan(chisq):\n",
    "        #return -np.inf\n",
    "        return -1000000.0\n",
    "    return float(-chisq / 2.)"
   ]
  },
  {
   "cell_type": "code",
   "execution_count": 13,
   "metadata": {},
   "outputs": [],
   "source": [
    "%%capture\n",
    "ti_gaf = %timeit -n 3 -r 2 -o -q engine.run(ng=generations)"
   ]
  },
  {
   "cell_type": "code",
   "execution_count": 14,
   "metadata": {},
   "outputs": [
    {
     "name": "stdout",
     "output_type": "stream",
     "text": [
      "Average run time (seconds): 124.08712170616732\n"
     ]
    }
   ],
   "source": [
    "print(\"Average run time (seconds): {}\".format(ti_gaf.average))"
   ]
  },
  {
   "cell_type": "code",
   "execution_count": 15,
   "metadata": {},
   "outputs": [],
   "source": [
    "best_indv = engine.population.best_indv(engine.fitness)"
   ]
  },
  {
   "cell_type": "code",
   "execution_count": 16,
   "metadata": {},
   "outputs": [
    {
     "name": "stdout",
     "output_type": "stream",
     "text": [
      "[-0.4443359375, 1.35009765625]\n",
      "[-0.4443359375, 1.35009765625]\n",
      "[-0.4443359375, 1.35009765625] -12.970588498645355\n"
     ]
    }
   ],
   "source": [
    "print(best_indv.solution, engine.fitness(best_indv))"
   ]
  },
  {
   "cell_type": "markdown",
   "metadata": {},
   "source": [
    "## Relative performance"
   ]
  },
  {
   "cell_type": "code",
   "execution_count": 17,
   "metadata": {},
   "outputs": [],
   "source": [
    "speedup_factor = ti_gaf.average/ti_gal.average"
   ]
  },
  {
   "cell_type": "code",
   "execution_count": 18,
   "metadata": {},
   "outputs": [
    {
     "name": "stdout",
     "output_type": "stream",
     "text": [
      "Speedup factor galibrate/gaft: 31.852040690768312\n"
     ]
    }
   ],
   "source": [
    "print(\"Speedup factor galibrate/gaft: {}\".format(speedup_factor))"
   ]
  }
 ],
 "metadata": {
  "kernelspec": {
   "display_name": "Python 3",
   "language": "python",
   "name": "python3"
  },
  "language_info": {
   "codemirror_mode": {
    "name": "ipython",
    "version": 3
   },
   "file_extension": ".py",
   "mimetype": "text/x-python",
   "name": "python",
   "nbconvert_exporter": "python",
   "pygments_lexer": "ipython3",
   "version": "3.7.6"
  }
 },
 "nbformat": 4,
 "nbformat_minor": 2
}
