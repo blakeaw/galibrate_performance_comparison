{
 "cells": [
  {
   "cell_type": "markdown",
   "metadata": {},
   "source": [
    "# Internal performance comparison of GAlibrate's core genetic algorithm implementations\n",
    "\n",
    "In this notebook we will do some performance analysis and comparisons of the core genetic algorithms implemented in [GAlibrate](https://github.com/blakeaw/GAlibrate). GAlibrate has three implementations of the core genetic algorithm: Python-only, Numba-accelerated, and Cython-accelerated. We'll compare how each implementation compares when scaling the number of parameters (or dimensionality), population size, and the number of generations. We'll look at each in turn.\n",
    "\n",
    "To run this notebook we need to have galibrate installed along with both Numba and Cython, as well as pandas, matplotlib. The Python version used for this analysis was 3.7.4.\n",
    "\n",
    "First we'll do all our imports:"
   ]
  },
  {
   "cell_type": "code",
   "execution_count": 1,
   "metadata": {},
   "outputs": [],
   "source": [
    "# Non-galibrate imports\n",
    "import numpy as np\n",
    "import pandas as pd\n",
    "import matplotlib.pyplot as plt\n",
    "# Notebook magic to inline plots\n",
    "%matplotlib inline"
   ]
  },
  {
   "cell_type": "code",
   "execution_count": 2,
   "metadata": {},
   "outputs": [
    {
     "name": "stderr",
     "output_type": "stream",
     "text": [
      "/home/blake/src/python/GAlibrate/galibrate/gao.py:10: RuntimeWarning: ------Running GAO with numba optimization.------\n",
      "  warnings.warn(\"------Running GAO with numba optimization.------\", RuntimeWarning)\n"
     ]
    }
   ],
   "source": [
    "# galibrate imports\n",
    "import galibrate\n",
    "from galibrate import gao\n",
    "from galibrate.sampled_parameter import SampledParameter\n",
    "# Manually import each of the run_gao modules -- normally galibrate does this internally\n",
    "# and automatically assigns the version based whether Numba and/or Cython are installed.\n",
    "# Python-only\n",
    "from galibrate import run_gao_py\n",
    "# Numba accelerated\n",
    "from galibrate import run_gao_numba\n",
    "# Cython accelerated -- uses pyximport\n",
    "import pyximport; pyximport.install(language_level=3)\n",
    "from galibrate import run_gao_cython"
   ]
  },
  {
   "cell_type": "markdown",
   "metadata": {},
   "source": [
    "## Model problem and fitness function\n",
    "\n",
    "For the purposes of this testing we'll use the Egg carton landscape from the [GAlibrate examples](https://github.com/blakeaw/GAlibrate/blob/master/examples/eggcarton/GAO_eggcarton.py). Parmeters will be defined on \\[0:10pi\\].\n",
    "\n",
    "Here is the fitness function:"
   ]
  },
  {
   "cell_type": "code",
   "execution_count": 3,
   "metadata": {},
   "outputs": [],
   "source": [
    "# Define the fitness function (-loglikelihood of eggcarton)\n",
    "def fitness(theta):\n",
    "    chi = (np.cos(theta)).prod()\n",
    "    return (2. + chi)**5"
   ]
  },
  {
   "cell_type": "markdown",
   "metadata": {},
   "source": [
    "## Scaling with the number of parameters (dimensionality)\n",
    "\n",
    "We'll start by examining the scaling with the number of parameters while holding the population size and number of generations fixed."
   ]
  },
  {
   "cell_type": "code",
   "execution_count": 4,
   "metadata": {},
   "outputs": [],
   "source": [
    "# Define the number of parameters (ndims), population size (popsize), and \n",
    "# number of generations (ngenerations)\n",
    "ndims = list([10, 50, 100, 500, 1000, 5000])\n",
    "popsize = 100\n",
    "ngenerations = 50"
   ]
  },
  {
   "cell_type": "code",
   "execution_count": 5,
   "metadata": {},
   "outputs": [
    {
     "name": "stdout",
     "output_type": "stream",
     "text": [
      "   n_dim  avg_time\n",
      "0     10  0.046661\n",
      "1     50  0.094814\n",
      "2    100  0.162354\n",
      "3    500  0.668255\n",
      "4   1000  1.389021\n",
      "5   5000  7.600903\n"
     ]
    }
   ],
   "source": [
    "# Manually set the run_gao version -- Python-only version \n",
    "gao.run_gao = run_gao_py\n",
    "timings = dict()\n",
    "timings['n_dim'] = list()\n",
    "timings['avg_time'] = list()\n",
    "# Loop over the dimensionality (number of parameters)\n",
    "for ndim in ndims:\n",
    "    timings['n_dim'].append(ndim)\n",
    "    sampled_parameters = [SampledParameter(name=i, loc=0.0, width=10.0*np.pi) for i in range(ndim)]\n",
    "    go = gao.GAO(sampled_parameters, fitness, popsize, generations=ngenerations)\n",
    "    #print(ndim, popsize, gen)\n",
    "    ti = %timeit -n 3 -r 2 -o -q go.run()\n",
    "    timings['avg_time'].append(ti.average)\n",
    "timings = pd.DataFrame(timings)\n",
    "print(timings)"
   ]
  },
  {
   "cell_type": "code",
   "execution_count": 6,
   "metadata": {},
   "outputs": [
    {
     "name": "stdout",
     "output_type": "stream",
     "text": [
      "   n_dim  avg_time\n",
      "0     10  0.033811\n",
      "1     50  0.023361\n",
      "2    100  0.028075\n",
      "3    500  0.093578\n",
      "4   1000  0.156955\n",
      "5   5000  0.805910\n"
     ]
    }
   ],
   "source": [
    "# Manually set the run_gao version -- Numba version \n",
    "gao.run_gao = run_gao_numba\n",
    "timings_n = dict()\n",
    "timings_n['n_dim'] = list()\n",
    "timings_n['avg_time'] = list()\n",
    "# Loop over the dimensionality (number of parameters)\n",
    "for ndim in ndims:\n",
    "    timings_n['n_dim'].append(ndim)\n",
    "    sampled_parameters = [SampledParameter(name=i, loc=0.0, width=10.0*np.pi) for i in range(ndim)]\n",
    "    go = gao.GAO(sampled_parameters, fitness, popsize, generations=ngenerations)\n",
    "    #print(ndim, popsize, gen)\n",
    "    ti = %timeit -n 3 -r 2 -o -q go.run()\n",
    "    timings_n['avg_time'].append(ti.average)\n",
    "timings_n = pd.DataFrame(timings_n)\n",
    "print(timings_n)"
   ]
  },
  {
   "cell_type": "code",
   "execution_count": 7,
   "metadata": {},
   "outputs": [
    {
     "name": "stdout",
     "output_type": "stream",
     "text": [
      "   n_dim  avg_time\n",
      "0     10  0.029318\n",
      "1     50  0.028422\n",
      "2    100  0.035196\n",
      "3    500  0.102143\n",
      "4   1000  0.185692\n",
      "5   5000  0.901800\n"
     ]
    }
   ],
   "source": [
    "# Manually set the run_gao version -- Cython version \n",
    "gao.run_gao = run_gao_cython\n",
    "timings_c = dict()\n",
    "timings_c['n_dim'] = list()\n",
    "timings_c['avg_time'] = list()\n",
    "# Loop over the dimensionality (number of parameters)\n",
    "for ndim in ndims:\n",
    "    timings_c['n_dim'].append(ndim)\n",
    "    sampled_parameters = [SampledParameter(name=i, loc=0.0, width=10.0*np.pi) for i in range(ndim)]\n",
    "    go = gao.GAO(sampled_parameters, fitness, popsize, generations=ngenerations)\n",
    "    #print(ndim, popsize, gen)\n",
    "    ti = %timeit -n 3 -r 2 -o -q go.run()\n",
    "    timings_c['avg_time'].append(ti.average)\n",
    "timings_c = pd.DataFrame(timings_c)\n",
    "print(timings_c)"
   ]
  },
  {
   "cell_type": "code",
   "execution_count": 8,
   "metadata": {},
   "outputs": [
    {
     "data": {
      "image/png": "[encoded data removed]",
      "text/plain": [
       "<Figure size 432x288 with 1 Axes>"
      ]
     },
     "metadata": {
      "needs_background": "light"
     },
     "output_type": "display_data"
    }
   ],
   "source": [
    "plt.plot(timings['n_dim'].values, timings['avg_time'].values, label='Python')\n",
    "plt.plot(timings_n['n_dim'].values, timings_n['avg_time'].values, label='Numba')\n",
    "plt.plot(timings_c['n_dim'].values, timings_c['avg_time'].values, label='Cython')\n",
    "plt.xlabel(\"Number of parameters\")\n",
    "plt.ylabel(\"Average time (seconds)\")\n",
    "plt.legend(loc=0)\n",
    "plt.show()"
   ]
  },
  {
   "cell_type": "markdown",
   "metadata": {},
   "source": [
    "The run times appear to roughly scale linearily with number of parameters. It's clear that the Numba and Cython implementations have pretty similar performance, both outperforming the Python-only version. \n",
    "\n",
    "Now let's look at the relative performance (speedup factors) of the implementations:"
   ]
  },
  {
   "cell_type": "code",
   "execution_count": 9,
   "metadata": {},
   "outputs": [
    {
     "data": {
      "image/png": "[encoded data removed]",
      "text/plain": [
       "<Figure size 432x288 with 1 Axes>"
      ]
     },
     "metadata": {
      "needs_background": "light"
     },
     "output_type": "display_data"
    }
   ],
   "source": [
    "py_o_n = timings['avg_time'].values/timings_n['avg_time'].values\n",
    "plt.plot(timings['n_dim'].values, py_o_n, label='Numba/Python')\n",
    "py_o_c = timings['avg_time'].values/timings_c['avg_time'].values\n",
    "plt.plot(timings_n['n_dim'].values, py_o_c, label='Cython/Python')\n",
    "c_o_n = timings_c['avg_time'].values/timings_n['avg_time'].values\n",
    "plt.plot(timings_c['n_dim'].values, c_o_n, label='Numba/Cython')\n",
    "plt.xlabel(\"Number of parameters\")\n",
    "plt.ylabel(\"Speedup Factor\")\n",
    "plt.legend(loc=0)\n",
    "plt.show()"
   ]
  },
  {
   "cell_type": "markdown",
   "metadata": {},
   "source": [
    "The speedup factors appear to roughly scale exponentially with the number of parameters. We can see that the Numba version has a little bit of performance advantage over the Cython implementation, but both approach an order of magnitude speedup over the Python-only implementation at the largest number of parameters tested here. "
   ]
  },
  {
   "cell_type": "markdown",
   "metadata": {},
   "source": [
    "## Scaling with population size\n",
    "\n",
    "Now let's examine the scaling with the population size while holding the number of parameters and number of generations fixed."
   ]
  },
  {
   "cell_type": "code",
   "execution_count": 10,
   "metadata": {},
   "outputs": [],
   "source": [
    "# Define the number of parameters (ndim), population sizes (popsizes), and \n",
    "# number of generations (ngenerations)\n",
    "ndim = 100\n",
    "popsizes = list([10, 50, 100, 500, 1000, 5000, 10000, 20000])\n",
    "ngenerations = 50"
   ]
  },
  {
   "cell_type": "code",
   "execution_count": 11,
   "metadata": {},
   "outputs": [
    {
     "name": "stdout",
     "output_type": "stream",
     "text": [
      "   pop_size   avg_time\n",
      "0        10   0.022110\n",
      "1        50   0.096393\n",
      "2       100   0.184697\n",
      "3       500   0.885211\n",
      "4      1000   1.732032\n",
      "5      5000   9.317504\n",
      "6     10000  17.987358\n",
      "7     20000  35.292584\n"
     ]
    }
   ],
   "source": [
    "# Manually set the run_gao version -- Python-only version \n",
    "gao.run_gao = run_gao_py\n",
    "timings = dict()\n",
    "timings['pop_size'] = list()\n",
    "timings['avg_time'] = list()\n",
    "# Loop over the population sizes\n",
    "for ps in popsizes:\n",
    "    timings['pop_size'].append(ps)\n",
    "    sampled_parameters = [SampledParameter(name=i, loc=0.0, width=10.0*np.pi) for i in range(ndim)]\n",
    "    go = gao.GAO(sampled_parameters, fitness, ps, generations=ngenerations)\n",
    "    #print(ndim, popsize, gen)\n",
    "    ti = %timeit -n 3 -r 2 -o -q go.run()\n",
    "    timings['avg_time'].append(ti.average)\n",
    "timings = pd.DataFrame(timings)\n",
    "print(timings)\n",
    "#gao.run_gao"
   ]
  },
  {
   "cell_type": "code",
   "execution_count": 12,
   "metadata": {},
   "outputs": [
    {
     "name": "stdout",
     "output_type": "stream",
     "text": [
      "   pop_size  avg_time\n",
      "0        10  0.006087\n",
      "1        50  0.017009\n",
      "2       100  0.030592\n",
      "3       500  0.129576\n",
      "4      1000  0.257825\n",
      "5      5000  1.366818\n",
      "6     10000  2.653046\n",
      "7     20000  5.507251\n"
     ]
    }
   ],
   "source": [
    "# Manually set the run_gao version -- Numba version \n",
    "gao.run_gao = run_gao_numba\n",
    "timings_n = dict()\n",
    "timings_n['pop_size'] = list()\n",
    "timings_n['avg_time'] = list()\n",
    "# Loop over the population sizes\n",
    "for ps in popsizes:\n",
    "    timings_n['pop_size'].append(ps)\n",
    "    sampled_parameters = [SampledParameter(name=i, loc=0.0, width=10.0*np.pi) for i in range(ndim)]\n",
    "    go = gao.GAO(sampled_parameters, fitness, ps, generations=ngenerations)\n",
    "    #print(ndim, popsize, gen)\n",
    "    ti = %timeit -n 3 -r 2 -o -q go.run()\n",
    "    timings_n['avg_time'].append(ti.average)\n",
    "timings_n = pd.DataFrame(timings_n)\n",
    "print(timings_n)\n",
    "#gao.run_gao"
   ]
  },
  {
   "cell_type": "code",
   "execution_count": 13,
   "metadata": {},
   "outputs": [
    {
     "name": "stdout",
     "output_type": "stream",
     "text": [
      "   pop_size  avg_time\n",
      "0        10  0.007568\n",
      "1        50  0.022084\n",
      "2       100  0.037462\n",
      "3       500  0.162417\n",
      "4      1000  0.316073\n",
      "5      5000  1.624344\n",
      "6     10000  3.156744\n",
      "7     20000  6.309421\n"
     ]
    }
   ],
   "source": [
    "# Manually set the run_gao version -- Cython version \n",
    "gao.run_gao = run_gao_cython\n",
    "timings_c = dict()\n",
    "timings_c['pop_size'] = list()\n",
    "timings_c['avg_time'] = list()\n",
    "# Loop over the population sizes\n",
    "for ps in popsizes:\n",
    "    timings_c['pop_size'].append(ps)\n",
    "    sampled_parameters = [SampledParameter(name=i, loc=0.0, width=10.0*np.pi) for i in range(ndim)]\n",
    "    go = gao.GAO(sampled_parameters, fitness, ps, generations=ngenerations)\n",
    "    #print(ndim, popsize, gen)\n",
    "    ti = %timeit -n 3 -r 2 -o -q go.run()\n",
    "    timings_c['avg_time'].append(ti.average)\n",
    "timings_c = pd.DataFrame(timings_c)\n",
    "print(timings_c)"
   ]
  },
  {
   "cell_type": "code",
   "execution_count": 14,
   "metadata": {},
   "outputs": [
    {
     "data": {
      "image/png": "[encoded data removed]",
      "text/plain": [
       "<Figure size 432x288 with 1 Axes>"
      ]
     },
     "metadata": {
      "needs_background": "light"
     },
     "output_type": "display_data"
    }
   ],
   "source": [
    "plt.plot(timings['pop_size'].values, timings['avg_time'].values, label='Python')\n",
    "plt.plot(timings_n['pop_size'].values, timings_n['avg_time'].values, label='Numba')\n",
    "plt.plot(timings_c['pop_size'].values, timings_c['avg_time'].values, label='Cython')\n",
    "plt.xlabel(\"Population Size\")\n",
    "plt.ylabel(\"Average time (seconds)\")\n",
    "plt.legend(loc=0)\n",
    "plt.show()"
   ]
  },
  {
   "cell_type": "markdown",
   "metadata": {},
   "source": [
    "The run times appear to roughly scale linearily with number of parameters. The Numba and Cython implementations have pretty similar performance, both outperforming the Python-only version. \n",
    "\n",
    "Now let's look at the relative performance (speedup factors) of the implementations:"
   ]
  },
  {
   "cell_type": "code",
   "execution_count": 15,
   "metadata": {},
   "outputs": [
    {
     "data": {
      "image/png": "[encoded data removed]",
      "text/plain": [
       "<Figure size 432x288 with 1 Axes>"
      ]
     },
     "metadata": {
      "needs_background": "light"
     },
     "output_type": "display_data"
    }
   ],
   "source": [
    "py_o_n = timings['avg_time'].values/timings_n['avg_time'].values\n",
    "plt.plot(timings['pop_size'].values, py_o_n, label='Numba/Python')\n",
    "py_o_c = timings['avg_time'].values/timings_c['avg_time'].values\n",
    "plt.plot(timings_n['pop_size'].values, py_o_c, label='Cython/Python')\n",
    "c_o_n = timings_c['avg_time'].values/timings_n['avg_time'].values\n",
    "plt.plot(timings_c['pop_size'].values, c_o_n, label='Numba/Cython')\n",
    "plt.xlabel(\"Population Size\")\n",
    "plt.ylabel(\"Speedup Factor\")\n",
    "plt.legend(loc=0)\n",
    "plt.show()"
   ]
  },
  {
   "cell_type": "markdown",
   "metadata": {},
   "source": [
    "The speedup factors appear to roughly scale exponentially with the population size, topping out around 6-7x and 5-6x for the Numba and Cython implementations, respectively. We can see that the Numba version has a little bit of performance advantage over the Cython implementation. "
   ]
  },
  {
   "cell_type": "markdown",
   "metadata": {},
   "source": [
    "## Scaling with the number of generations\n",
    "\n",
    "Finally, let's examine the scaling with the number of generations while holding the number of parameters and population size fixed."
   ]
  },
  {
   "cell_type": "code",
   "execution_count": 16,
   "metadata": {},
   "outputs": [],
   "source": [
    "# Define the number of parameters (ndim), population size (popsize), and \n",
    "# numbers of generations (ngenerations)\n",
    "ndim = 100\n",
    "popsize = 100\n",
    "ngenerations = list([10, 50, 100, 500])"
   ]
  },
  {
   "cell_type": "code",
   "execution_count": 17,
   "metadata": {},
   "outputs": [
    {
     "name": "stdout",
     "output_type": "stream",
     "text": [
      "   n_generations  avg_time\n",
      "0             10  0.040427\n",
      "1             50  0.171226\n",
      "2            100  0.328255\n",
      "3            500  1.695642\n"
     ]
    }
   ],
   "source": [
    "# Manually set the run_gao version -- Python-only version \n",
    "gao.run_gao = run_gao_py\n",
    "timings = dict()\n",
    "timings['n_generations'] = list()\n",
    "timings['avg_time'] = list()\n",
    "# Loop over the dimensionality (number of parameters)\n",
    "for ngen in ngenerations:\n",
    "    timings['n_generations'].append(ngen)\n",
    "    sampled_parameters = [SampledParameter(name=i, loc=0.0, width=10.0*np.pi) for i in range(ndim)]\n",
    "    go = gao.GAO(sampled_parameters, fitness, popsize, generations=ngen)\n",
    "    #print(ndim, popsize, gen)\n",
    "    ti = %timeit -n 3 -r 2 -o -q go.run()\n",
    "    timings['avg_time'].append(ti.average)\n",
    "timings = pd.DataFrame(timings)\n",
    "print(timings)"
   ]
  },
  {
   "cell_type": "code",
   "execution_count": 18,
   "metadata": {},
   "outputs": [
    {
     "name": "stdout",
     "output_type": "stream",
     "text": [
      "   n_generations  avg_time\n",
      "0             10  0.007827\n",
      "1             50  0.032107\n",
      "2            100  0.058829\n",
      "3            500  0.281847\n"
     ]
    }
   ],
   "source": [
    "# Manually set the run_gao version -- Numba version \n",
    "gao.run_gao = run_gao_numba\n",
    "timings_n = dict()\n",
    "timings_n['n_generations'] = list()\n",
    "timings_n['avg_time'] = list()\n",
    "# Loop over the dimensionality (number of parameters)\n",
    "for ngen in ngenerations:\n",
    "    timings_n['n_generations'].append(ngen)\n",
    "    sampled_parameters = [SampledParameter(name=i, loc=0.0, width=10.0*np.pi) for i in range(ndim)]\n",
    "    go = gao.GAO(sampled_parameters, fitness, popsize, generations=ngen)\n",
    "    #print(ndim, popsize, gen)\n",
    "    ti = %timeit -n 3 -r 2 -o -q go.run()\n",
    "    timings_n['avg_time'].append(ti.average)\n",
    "timings_n = pd.DataFrame(timings_n)\n",
    "print(timings_n)"
   ]
  },
  {
   "cell_type": "code",
   "execution_count": 19,
   "metadata": {},
   "outputs": [
    {
     "name": "stdout",
     "output_type": "stream",
     "text": [
      "   n_generations  avg_time\n",
      "0             10  0.008799\n",
      "1             50  0.038928\n",
      "2            100  0.074576\n",
      "3            500  0.350769\n"
     ]
    }
   ],
   "source": [
    "# Manually set the run_gao version -- Cython version \n",
    "gao.run_gao = run_gao_cython\n",
    "timings_c = dict()\n",
    "timings_c['n_generations'] = list()\n",
    "timings_c['avg_time'] = list()\n",
    "# Loop over the dimensionality (number of parameters)\n",
    "for ngen in ngenerations:\n",
    "    timings_c['n_generations'].append(ngen)\n",
    "    sampled_parameters = [SampledParameter(name=i, loc=0.0, width=10.0*np.pi) for i in range(ndim)]\n",
    "    go = gao.GAO(sampled_parameters, fitness, popsize, generations=ngen)\n",
    "    #print(ndim, popsize, gen)\n",
    "    ti = %timeit -n 3 -r 2 -o -q go.run()\n",
    "    timings_c['avg_time'].append(ti.average)\n",
    "timings_c = pd.DataFrame(timings_c)\n",
    "print(timings_c)"
   ]
  },
  {
   "cell_type": "code",
   "execution_count": 20,
   "metadata": {},
   "outputs": [
    {
     "data": {
      "image/png": "[encoded data removed]",
      "text/plain": [
       "<Figure size 432x288 with 1 Axes>"
      ]
     },
     "metadata": {
      "needs_background": "light"
     },
     "output_type": "display_data"
    }
   ],
   "source": [
    "plt.plot(timings['n_generations'].values, timings['avg_time'].values, label='Python')\n",
    "plt.plot(timings_n['n_generations'].values, timings_n['avg_time'].values, label='Numba')\n",
    "plt.plot(timings_c['n_generations'].values, timings_c['avg_time'].values, label='Cython')\n",
    "plt.xlabel(\"Number of Generations\")\n",
    "plt.ylabel(\"Average time (seconds)\")\n",
    "plt.legend(loc=0)\n",
    "plt.show()"
   ]
  },
  {
   "cell_type": "markdown",
   "metadata": {},
   "source": [
    "The run times appear to roughly scale linearily with number of generations. The Numba and Cython implementations have pretty similar performance, both outperforming the Python-only version. \n",
    "\n",
    "Now let's look at the relative performance (speedup factors) of the implementations:"
   ]
  },
  {
   "cell_type": "code",
   "execution_count": 21,
   "metadata": {},
   "outputs": [
    {
     "data": {
      "image/png": "[encoded data removed]",
      "text/plain": [
       "<Figure size 432x288 with 1 Axes>"
      ]
     },
     "metadata": {
      "needs_background": "light"
     },
     "output_type": "display_data"
    }
   ],
   "source": [
    "py_o_n = timings['avg_time'].values/timings_n['avg_time'].values\n",
    "plt.plot(timings['n_generations'].values, py_o_n, label='Numba/Python')\n",
    "py_o_c = timings['avg_time'].values/timings_c['avg_time'].values\n",
    "plt.plot(timings_n['n_generations'].values, py_o_c, label='Cython/Python')\n",
    "c_o_n = timings_c['avg_time'].values/timings_n['avg_time'].values\n",
    "plt.plot(timings_c['n_generations'].values, c_o_n, label='Numba/Cython')\n",
    "plt.xlabel(\"Number of Generations\")\n",
    "plt.ylabel(\"Speedup Factor\")\n",
    "plt.legend(loc=0)\n",
    "plt.show()"
   ]
  },
  {
   "cell_type": "markdown",
   "metadata": {},
   "source": [
    "The speedup factors don't have as strong of dependence on the number of generations, staying around 5-6x and 4-5x for the Numba and Cython implementations, respectively. As in the other cases, we can see that the Numba version has a little bit of a performance advantage over the Cython implementation. And based on the other scaling results, the Numba and Cython implementations would likely offer a larger perfarmace advantage over the Python-only one if the number of parameters or population size were increased."
   ]
  },
  {
   "cell_type": "markdown",
   "metadata": {},
   "source": [
    "## Summary\n",
    "\n",
    "The analysis here shows that the Numba and Cython versions can offer anywhere from about a 2-10 fold speed increase over the Python-only version dependent on the dimensionality of the problem (i.e., the number of parameters) and the choice of GA population size and number of generations (i.e., number of iterations); the benefit tends to increase as the aforementioned quantities increase. the  Additionally, this analysis shows that the Numba implementation offers slightly better performace than the Cython one.\n",
    "\n",
    "It is worth noting that here we only tested a single model system and fitness function. It would be interesting to test other models and fitness functions as well."
   ]
  }
 ],
 "metadata": {
  "kernelspec": {
   "display_name": "Python 3",
   "language": "python",
   "name": "python3"
  },
  "language_info": {
   "codemirror_mode": {
    "name": "ipython",
    "version": 3
   },
   "file_extension": ".py",
   "mimetype": "text/x-python",
   "name": "python",
   "nbconvert_exporter": "python",
   "pygments_lexer": "ipython3",
   "version": "3.7.4"
  }
 },
 "nbformat": 4,
 "nbformat_minor": 2
}
